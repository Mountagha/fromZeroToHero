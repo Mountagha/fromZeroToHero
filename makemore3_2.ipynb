{
  "nbformat": 4,
  "nbformat_minor": 0,
  "metadata": {
    "colab": {
      "provenance": [],
      "authorship_tag": "ABX9TyNrXNMw/OXEC+iNRmffumaQ",
      "include_colab_link": true
    },
    "kernelspec": {
      "name": "python3",
      "display_name": "Python 3"
    },
    "language_info": {
      "name": "python"
    }
  },
  "cells": [
    {
      "cell_type": "markdown",
      "metadata": {
        "id": "view-in-github",
        "colab_type": "text"
      },
      "source": [
        "<a href=\"https://colab.research.google.com/github/Mountagha/fromZeroToHero/blob/main/makemore3_2.ipynb\" target=\"_parent\"><img src=\"https://colab.research.google.com/assets/colab-badge.svg\" alt=\"Open In Colab\"/></a>"
      ]
    },
    {
      "cell_type": "code",
      "execution_count": null,
      "metadata": {
        "id": "JWzbNURs7eMX"
      },
      "outputs": [],
      "source": [
        "import torch\n",
        "import torch.nn.functional as F\n",
        "import matplotlib.pyplot as plt\n",
        "%matplotlib inline "
      ]
    },
    {
      "cell_type": "code",
      "source": [
        "!wget https://raw.githubusercontent.com/karpathy/makemore/master/names.txt"
      ],
      "metadata": {
        "colab": {
          "base_uri": "https://localhost:8080/"
        },
        "id": "gVOA4v9eN5n0",
        "outputId": "9ff1f4d8-9c59-47f8-ff06-0d2a5f889182"
      },
      "execution_count": null,
      "outputs": [
        {
          "output_type": "stream",
          "name": "stdout",
          "text": [
            "--2023-04-28 09:34:46--  https://raw.githubusercontent.com/karpathy/makemore/master/names.txt\n",
            "Resolving raw.githubusercontent.com (raw.githubusercontent.com)... 185.199.110.133, 185.199.108.133, 185.199.109.133, ...\n",
            "Connecting to raw.githubusercontent.com (raw.githubusercontent.com)|185.199.110.133|:443... connected.\n",
            "HTTP request sent, awaiting response... 200 OK\n",
            "Length: 228145 (223K) [text/plain]\n",
            "Saving to: ‘names.txt’\n",
            "\n",
            "names.txt           100%[===================>] 222.80K  --.-KB/s    in 0.03s   \n",
            "\n",
            "2023-04-28 09:34:46 (7.21 MB/s) - ‘names.txt’ saved [228145/228145]\n",
            "\n"
          ]
        }
      ]
    },
    {
      "cell_type": "code",
      "source": [
        "words = open(\"names.txt\", \"r\").read().splitlines()"
      ],
      "metadata": {
        "id": "jb0mmg5P9PA3"
      },
      "execution_count": null,
      "outputs": []
    },
    {
      "cell_type": "code",
      "source": [
        "# build the vocabulary of characters and mappings to/from integers\n",
        "chars = sorted(list(set(''.join(words))))\n",
        "stoi = {c:i+1 for i, c in enumerate(chars)}\n",
        "stoi['.'] = 0\n",
        "itos = {i:s for s, i in stoi.items()}\n",
        "vocab_size = len(itos)\n",
        "print(itos)\n",
        "print(vocab_size)"
      ],
      "metadata": {
        "colab": {
          "base_uri": "https://localhost:8080/"
        },
        "id": "XkFLX1Hk9cEM",
        "outputId": "9f99fc5f-2efe-4620-b90c-af8f2994ff51"
      },
      "execution_count": null,
      "outputs": [
        {
          "output_type": "stream",
          "name": "stdout",
          "text": [
            "{1: 'a', 2: 'b', 3: 'c', 4: 'd', 5: 'e', 6: 'f', 7: 'g', 8: 'h', 9: 'i', 10: 'j', 11: 'k', 12: 'l', 13: 'm', 14: 'n', 15: 'o', 16: 'p', 17: 'q', 18: 'r', 19: 's', 20: 't', 21: 'u', 22: 'v', 23: 'w', 24: 'x', 25: 'y', 26: 'z', 0: '.'}\n",
            "27\n"
          ]
        }
      ]
    },
    {
      "cell_type": "code",
      "source": [
        "# build the dataset\n",
        "block_size = 3\n",
        "def build_dataset(words):\n",
        "  X, Y = [], []\n",
        "  for w in words:\n",
        "    context = [0] * block_size\n",
        "    for c in w + '.':\n",
        "      idx = stoi[c]\n",
        "      X.append(context)\n",
        "      Y.append(idx)\n",
        "      # print(f\"{''.join(itos[x] for x in context)} --> {c}\")\n",
        "      context = context[1:] + [idx]\n",
        "    \n",
        "  x = torch.tensor(X)\n",
        "  y = torch.tensor(Y)\n",
        "  print(x.shape, y.shape)\n",
        "  return x, y"
      ],
      "metadata": {
        "id": "xiWThDRA-HP-"
      },
      "execution_count": null,
      "outputs": []
    },
    {
      "cell_type": "code",
      "source": [
        "# training/validation/test\n",
        "import random\n",
        "random.seed(42)\n",
        "random.shuffle(words)\n",
        "n1 = int(0.8*len(words))\n",
        "n2 = int(0.9*len(words))\n",
        "\n",
        "Xtr, Ytr = build_dataset(words[:n1])\n",
        "Xdev, Ydev = build_dataset(words[n1:n2])\n",
        "Xte, Yte = build_dataset(words[n2:])"
      ],
      "metadata": {
        "colab": {
          "base_uri": "https://localhost:8080/"
        },
        "id": "uYKXwPKkPEUq",
        "outputId": "559f8bd2-750e-4673-e347-a0a593d535ad"
      },
      "execution_count": null,
      "outputs": [
        {
          "output_type": "stream",
          "name": "stdout",
          "text": [
            "torch.Size([182625, 3]) torch.Size([182625])\n",
            "torch.Size([22655, 3]) torch.Size([22655])\n",
            "torch.Size([22866, 3]) torch.Size([22866])\n"
          ]
        }
      ]
    },
    {
      "cell_type": "code",
      "source": [
        "# MLP revisited\n",
        "n_embd = 10 # the dimensionality of the character embedding vector\n",
        "n_hidden = 200 # the number of the neurons in the hidden layer of the MLP\n",
        "\n",
        "g = torch.Generator().manual_seed(2147483647) # For reproducibility\n",
        "C = torch.randn((vocab_size, n_embd), generator=g)\n",
        "W1 = torch.randn((n_embd * block_size, n_hidden), generator=g) * (5/3)/((n_embd * block_size)**0.5) #0.2\n",
        "# b1 = torch.randn(n_hidden, generator=g) * 0.01\n",
        "W2 = torch.randn((n_hidden, vocab_size), generator=g) * 0.01\n",
        "b2 = torch.randn(vocab_size, generator=g) * 0\n",
        "\n",
        "bngain = torch.ones((1, n_hidden))\n",
        "bnbias = torch.zeros((1, n_hidden))\n",
        "bnmean_running = torch.zeros((1, n_hidden))\n",
        "bnstd_running = torch.ones((1, n_hidden))\n",
        "\n",
        "\n",
        "paramaters = [C, W1, W2, b2, bngain, bnbias]"
      ],
      "metadata": {
        "id": "A8XUMcHVLF29"
      },
      "execution_count": null,
      "outputs": []
    },
    {
      "cell_type": "code",
      "source": [
        "print(sum(p.nelement() for p in paramaters)) # number of parameters in total\n",
        "for p in paramaters:\n",
        "  p.requires_grad = True"
      ],
      "metadata": {
        "colab": {
          "base_uri": "https://localhost:8080/"
        },
        "id": "sXPcj09jRQlJ",
        "outputId": "f728bdce-bd1a-4a32-d988-4f91d65c8a19"
      },
      "execution_count": null,
      "outputs": [
        {
          "output_type": "stream",
          "name": "stdout",
          "text": [
            "12097\n"
          ]
        }
      ]
    },
    {
      "cell_type": "code",
      "source": [
        "max_steps = 200000\n",
        "batch_size = 32\n",
        "lossi = []\n",
        "\n",
        "\n",
        "for i in range(max_steps):\n",
        "  # minibatch construct\n",
        "  idx = torch.randint(0, Xtr.shape[0], (batch_size,))\n",
        "  Xb, Yb = Xtr[idx], Ytr[idx]\n",
        "\n",
        "  # forward pass\n",
        "  emb = C[Xb] # embed the charactesr into vectors\n",
        "  embcat = emb.view(emb.shape[0], -1) # concatenate the vectors\n",
        "  \n",
        "  # Linear layer\n",
        "  hpreact = embcat @ W1 # + b1 # hidden layer pre-activation\n",
        "  \n",
        "  # BatchNorm layer\n",
        "  bnmeani = hpreact.mean(0, keepdim=True)\n",
        "  bnstdi = hpreact.std(0, keepdim=True)\n",
        "  hpreact = bngain * (hpreact - bnmeani) / bnstdi + bnbias\n",
        "  with torch.no_grad():\n",
        "    bnmean_running = 0.999 * bnmean_running + 0.001 + bnmeani\n",
        "    bnstd_running = 0.999 * bnstd_running + 0.001 * bnstdi\n",
        "  \n",
        "  h = torch.tanh(hpreact) # hidden layer\n",
        "  logits = h @ W2 + b2 # output layer\n",
        "  loss = F.cross_entropy(logits, Yb) # loss function\n",
        "\n",
        "  for p in paramaters:\n",
        "    p.grad = None\n",
        "  loss.backward()\n",
        "\n",
        "  #update \n",
        "  # lr = lrs[i]\n",
        "  lr = 0.1 if i < 100000 else 0.01 # learning rate decay\n",
        "  for p in paramaters:\n",
        "    p.data += -lr * p.grad\n",
        "  \n",
        "  # tracks stats\n",
        "  if i % 10000 == 0: # print every once in a while\n",
        "    print(f\"{i:7d}/{max_steps:7d}: {loss.item():.4f}\")\n",
        "  lossi.append(loss.log10().item())\n"
      ],
      "metadata": {
        "colab": {
          "base_uri": "https://localhost:8080/"
        },
        "id": "q3wSQ3XEMPBA",
        "outputId": "2f2813a8-e717-4480-c8c3-bd761a490802"
      },
      "execution_count": null,
      "outputs": [
        {
          "output_type": "stream",
          "name": "stdout",
          "text": [
            "      0/ 200000: 3.3098\n",
            "  10000/ 200000: 2.1441\n",
            "  20000/ 200000: 2.4131\n",
            "  30000/ 200000: 2.2964\n",
            "  40000/ 200000: 2.3262\n",
            "  50000/ 200000: 2.4677\n",
            "  60000/ 200000: 2.1935\n",
            "  70000/ 200000: 2.4167\n",
            "  80000/ 200000: 1.9388\n",
            "  90000/ 200000: 2.4100\n",
            " 100000/ 200000: 2.4649\n",
            " 110000/ 200000: 1.8955\n",
            " 120000/ 200000: 2.4402\n",
            " 130000/ 200000: 1.8761\n",
            " 140000/ 200000: 2.3596\n",
            " 150000/ 200000: 2.4651\n",
            " 160000/ 200000: 2.3253\n",
            " 170000/ 200000: 1.9825\n",
            " 180000/ 200000: 2.2242\n",
            " 190000/ 200000: 2.3712\n"
          ]
        }
      ]
    },
    {
      "cell_type": "code",
      "source": [
        "bnmean_running"
      ],
      "metadata": {
        "colab": {
          "base_uri": "https://localhost:8080/"
        },
        "id": "rPWUe28VpPJq",
        "outputId": "12fbf0a1-b894-4194-c98b-af72af5e7144"
      },
      "execution_count": null,
      "outputs": [
        {
          "output_type": "execute_result",
          "data": {
            "text/plain": [
              "tensor([[-2814.7651,  -851.4210, -1958.1954,  1366.1089,  1012.9269,  1686.3059,\n",
              "          1528.2068, -1211.2737,  1130.7435,  1382.5817, -1576.2104, -2323.9788,\n",
              "          -130.1381,  -763.6508,  -629.0767, -1167.3021,  1229.4875, -2477.3450,\n",
              "          -971.9485,   733.2051,   737.6570,   132.4354,   151.3711,   297.0123,\n",
              "           982.8596,  1617.5698,  1075.4226,  -311.3607,   778.4041,  1934.8469,\n",
              "           -94.4994, -2381.7183,   738.2890,   376.1888, -1021.8742,  -720.9062,\n",
              "         -2487.9426,   889.3425,    52.1734,   231.2552,   -52.1862, -1492.2726,\n",
              "            43.0780,   375.6958,   653.7276,  -470.8889,  1370.2954,  -531.7207,\n",
              "          1428.8884,  1268.6168,  1211.2970,   600.5703,  1700.2738,   651.3436,\n",
              "          1387.6548, -2411.6279, -1105.9146,  -157.8978,  2100.7227, -1341.7784,\n",
              "         -1356.6287,  1089.6509,   810.1582,   -27.1941,  1210.9825,  1138.9514,\n",
              "          -689.2476,  1786.0331,  -659.4679,  -174.1197,  -626.9073,   734.8086,\n",
              "          -571.2733,  -549.5377, -2480.5723,   506.3100,  1061.3022,    36.9234,\n",
              "           407.3394,   829.4158,   325.9690,  1742.8512,  1256.7996,   549.5390,\n",
              "           340.9799,  -477.2151,  -218.3768,   -59.3570,    43.0134,  -420.9491,\n",
              "         -1299.4780,   855.5411, -1136.7888, -1194.9442, -1680.4498,   490.4779,\n",
              "           452.6926, -1314.1262,   372.3522,  -931.0224,  -536.6690,   345.5301,\n",
              "         -1666.5494,  1618.6602,  1121.3630,   262.4393,  -464.2626,   -47.8350,\n",
              "           519.0212,  -201.4030,   597.0323,  1382.0197,   -52.3642,  1355.0829,\n",
              "          2598.4973,  1889.0836,   406.5328,   619.9553,   -51.1759,  -515.7031,\n",
              "         -1411.5955,  -859.6049,     9.4615,   705.6871,  -109.0329,   345.5598,\n",
              "           193.5017,  -687.9003, -1210.2258,  -571.3394,  2630.0664, -1187.7345,\n",
              "           788.7808,  1775.9769,   168.7627,  1419.4028,  -337.0321,  1948.7201,\n",
              "           442.8710,   675.2408,  1017.2379,   460.1724,  1070.1202,  -151.3540,\n",
              "           281.2088,  1132.8661,  1343.9957, -1038.3486,   454.3201,   477.5540,\n",
              "         -2089.8760,  1619.3312,   998.1967,  2220.1172,  1276.2960,  -445.5547,\n",
              "           984.7968, -1348.1621,  -320.7772,  1087.4475,   757.2861, -1028.2712,\n",
              "           617.7005, -1054.6378,  -648.1748,  -525.3385,   -55.7077,   599.9645,\n",
              "         -2590.1997,  -432.0981,   696.8641, -2220.5698,    52.7508, -1056.7130,\n",
              "          -939.3434,  1136.2704,  1366.5530, -1346.7170,   945.6476, -2025.8262,\n",
              "           775.4006,  1492.2782,   302.9964, -1377.4766,   438.0524, -1038.4301,\n",
              "          -115.8392,  -639.1550,  2541.9575,   413.1731,   172.2483,  1903.8281,\n",
              "          -595.3230,  -119.2824,   952.7057,  1118.2272,  1909.3154,  -434.2642,\n",
              "          -401.4428,   467.8448]])"
            ]
          },
          "metadata": {},
          "execution_count": 63
        }
      ]
    },
    {
      "cell_type": "code",
      "source": [
        "# Calibrate the batch norm at the end of training\n",
        "\n",
        "with torch.no_grad():\n",
        "  # pass the training set through\n",
        "  emb = C[Xtr]\n",
        "  embcat = emb.view(emb.shape[0], -1)\n",
        "  hpreact = embcat @ W1 + b1\n",
        "  # measure the mean/std over the entire training set\n",
        "  bnmean = hpreact.mean(0, keepdim=True)\n",
        "  bnstd = hpreact.std(0, keepdim=True)"
      ],
      "metadata": {
        "id": "mUJK4xTak_Pe"
      },
      "execution_count": null,
      "outputs": []
    },
    {
      "cell_type": "code",
      "source": [
        "bnmean"
      ],
      "metadata": {
        "colab": {
          "base_uri": "https://localhost:8080/"
        },
        "id": "JZ1Suboephoy",
        "outputId": "19ee370b-e52a-430d-e07d-ee5836eb6997"
      },
      "execution_count": null,
      "outputs": [
        {
          "output_type": "execute_result",
          "data": {
            "text/plain": [
              "tensor([[-2.8268, -0.8613, -1.9672,  1.3835,  1.0190,  1.7061,  1.5097, -1.2344,\n",
              "          1.1298,  1.3848, -1.5694, -2.3307, -0.1273, -0.7274, -0.6003, -1.1644,\n",
              "          1.2480, -2.4817, -1.0072,  0.7507,  0.7377,  0.1339,  0.1636,  0.3026,\n",
              "          0.9755,  1.6368,  1.0834, -0.2802,  0.7952,  1.9307, -0.0884, -2.3865,\n",
              "          0.7347,  0.3660, -1.0370, -0.7432, -2.5053,  0.9020,  0.0538,  0.2469,\n",
              "         -0.0695, -1.4984,  0.0715,  0.3553,  0.6491, -0.5014,  1.3692, -0.5520,\n",
              "          1.4446,  1.2525,  1.2283,  0.5825,  1.6746,  0.6552,  1.3932, -2.4424,\n",
              "         -1.0936, -0.1506,  2.1064, -1.3428, -1.3697,  1.0809,  0.8011, -0.0488,\n",
              "          1.2121,  1.1465, -0.6760,  1.7871, -0.6563, -0.1829, -0.6064,  0.7235,\n",
              "         -0.5684, -0.5531, -2.4864,  0.4877,  1.0676,  0.0338,  0.4001,  0.8185,\n",
              "          0.3392,  1.7497,  1.2536,  0.5524,  0.3534, -0.4684, -0.2125, -0.0799,\n",
              "          0.0421, -0.4130, -1.2603,  0.8631, -1.1232, -1.2177, -1.6796,  0.4855,\n",
              "          0.4602, -1.3125,  0.3703, -0.9552, -0.5370,  0.3694, -1.6848,  1.6390,\n",
              "          1.1184,  0.2666, -0.4742, -0.0479,  0.5265, -0.2157,  0.6142,  1.3692,\n",
              "         -0.0446,  1.3338,  2.6049,  1.8934,  0.3923,  0.6121, -0.0655, -0.5388,\n",
              "         -1.4129, -0.8583, -0.0070,  0.7292, -0.1109,  0.3344,  0.2085, -0.7001,\n",
              "         -1.2291, -0.5502,  2.6295, -1.1814,  0.7906,  1.7760,  0.2032,  1.4308,\n",
              "         -0.3370,  1.9413,  0.4665,  0.6654,  1.0128,  0.4739,  1.0707, -0.1704,\n",
              "          0.2930,  1.1247,  1.3290, -1.0263,  0.4369,  0.4844, -2.0869,  1.6226,\n",
              "          0.9751,  2.2292,  1.2903, -0.4515,  0.9920, -1.3489, -0.3089,  1.1021,\n",
              "          0.7885, -1.0339,  0.5811, -1.0710, -0.6460, -0.5356, -0.0655,  0.6262,\n",
              "         -2.5850, -0.4473,  0.6963, -2.2272,  0.0639, -1.0671, -0.9230,  1.1181,\n",
              "          1.4109, -1.3660,  0.9433, -2.0448,  0.7861,  1.4816,  0.2900, -1.3725,\n",
              "          0.4474, -1.0417, -0.1073, -0.6384,  2.5474,  0.3959,  0.1526,  1.9240,\n",
              "         -0.5841, -0.1209,  0.9504,  1.1044,  1.9230, -0.4396, -0.4128,  0.4683]])"
            ]
          },
          "metadata": {},
          "execution_count": 65
        }
      ]
    },
    {
      "cell_type": "code",
      "source": [
        "plt.figure(figsize=(20, 10))\n",
        "plt.imshow(h.abs() > 0.99, cmap=\"gray\", interpolation=\"nearest\")"
      ],
      "metadata": {
        "colab": {
          "base_uri": "https://localhost:8080/",
          "height": 310
        },
        "id": "4Bh0YhF6V4MZ",
        "outputId": "3d14c175-d71c-44a3-fcdb-6b5dd6fde651"
      },
      "execution_count": null,
      "outputs": [
        {
          "output_type": "execute_result",
          "data": {
            "text/plain": [
              "<matplotlib.image.AxesImage at 0x7f56c05cbdf0>"
            ]
          },
          "metadata": {},
          "execution_count": 40
        },
        {
          "output_type": "display_data",
          "data": {
            "text/plain": [
              "<Figure size 2000x1000 with 1 Axes>"
            ],
            "image/png": "[encoded data removed]"
          },
          "metadata": {}
        }
      ]
    },
    {
      "cell_type": "code",
      "source": [
        "plt.hist(h.view(-1).tolist(), 50);"
      ],
      "metadata": {
        "colab": {
          "base_uri": "https://localhost:8080/",
          "height": 430
        },
        "id": "UJDbKP5YQ3Iz",
        "outputId": "01255e9e-7b98-4e1c-e7b1-9be0b60acf48"
      },
      "execution_count": null,
      "outputs": [
        {
          "output_type": "display_data",
          "data": {
            "text/plain": [
              "<Figure size 640x480 with 1 Axes>"
            ],
            "image/png": "[encoded data removed]"
          },
          "metadata": {}
        }
      ]
    },
    {
      "cell_type": "code",
      "source": [
        "plt.hist(hpreact.view(-1).tolist(), 50);"
      ],
      "metadata": {
        "colab": {
          "base_uri": "https://localhost:8080/",
          "height": 430
        },
        "id": "pbazS9VkR2DP",
        "outputId": "8550ed5e-9ef7-47c3-c541-6d4151ce4b6d"
      },
      "execution_count": null,
      "outputs": [
        {
          "output_type": "display_data",
          "data": {
            "text/plain": [
              "<Figure size 640x480 with 1 Axes>"
            ],
            "image/png": "[encoded data removed]"
          },
          "metadata": {}
        }
      ]
    },
    {
      "cell_type": "code",
      "source": [
        "plt.plot(lossi)"
      ],
      "metadata": {
        "colab": {
          "base_uri": "https://localhost:8080/",
          "height": 447
        },
        "id": "ON-kueetcOyu",
        "outputId": "8aefc35f-9f1c-4bb1-80c9-9e7a2ae0413a"
      },
      "execution_count": null,
      "outputs": [
        {
          "output_type": "execute_result",
          "data": {
            "text/plain": [
              "[<matplotlib.lines.Line2D at 0x7f56c0468310>]"
            ]
          },
          "metadata": {},
          "execution_count": 18
        },
        {
          "output_type": "display_data",
          "data": {
            "text/plain": [
              "<Figure size 640x480 with 1 Axes>"
            ],
            "image/png": "[encoded data removed]"
          },
          "metadata": {}
        }
      ]
    },
    {
      "cell_type": "code",
      "source": [
        "@torch.no_grad() # this decorator disables gradient tracking\n",
        "def split_loss(split):\n",
        "  x,y = {\n",
        "      'train': (Xtr, Ytr),\n",
        "      'val': (Xdev, Ydev),\n",
        "      'test': (Xte, Yte)\n",
        "  }[split]\n",
        "  emb = C[x] # [N, block_size, n_embd]\n",
        "  embcat = emb.view(emb.shape[0], -1) # concat into (N, block_size * n_embd)\n",
        "  hpreact = embcat @ W1 + b1\n",
        "  # hpreact = bngain * (hpreact - hpreact.mean(0, keepdim=True)) / hpreact.std(0, keepdim=True) + bnbias\n",
        "  hpreact = bngain * (hpreact - bnmean_running) / bnstd_running + bnbias\n",
        "  h = torch.tanh(embcat @ W1 + b1) # (N, n_hidden)\n",
        "  logits = h @ W2 + b2 # (N, vocab_size)\n",
        "  loss = F.cross_entropy(logits, y)\n",
        "  print(split, loss.item())\n",
        "\n",
        "split_loss('train')\n",
        "split_loss('val')"
      ],
      "metadata": {
        "colab": {
          "base_uri": "https://localhost:8080/"
        },
        "id": "hI-7K-OAPCkM",
        "outputId": "919fac64-6697-45e5-add7-a6e6ae690936"
      },
      "execution_count": null,
      "outputs": [
        {
          "output_type": "stream",
          "name": "stdout",
          "text": [
            "train 3.0883595943450928\n",
            "val 3.114927053451538\n"
          ]
        }
      ]
    },
    {
      "cell_type": "code",
      "source": [
        "# text generation.\n",
        "g = torch.Generator().manual_seed(32084209852)\n",
        "\n",
        "context = [0] * block_size\n"
      ],
      "metadata": {
        "id": "75uypAtidTZO"
      },
      "execution_count": null,
      "outputs": []
    },
    {
      "cell_type": "code",
      "source": [
        "# sample from the model\n",
        "g = torch.Generator().manual_seed(2147482647 + 10)\n",
        "for _ in range(20):\n",
        "\n",
        "  out = []\n",
        "  context = [0] * block_size # initialize with all ....\n",
        "  while True:\n",
        "    # forward pass the neural network\n",
        "    emb = C[torch.tensor([context])] # (1, block_size, n_embd)\n",
        "    h = torch.tanh(emb.view(1, -1) @ W1 + b1)\n",
        "    logits = h @ W2 + b2\n",
        "    probs = F.softmax(logits, dim=1)\n",
        "    idx = torch.multinomial(probs, num_samples=1, generator=g).item()\n",
        "    # Shift the context window and track the samples\n",
        "    context = context[1:] + [idx]\n",
        "    out.append(idx)\n",
        "    if idx == 0:\n",
        "      break\n",
        "  print(''.join(itos[i] for i in out))"
      ],
      "metadata": {
        "colab": {
          "base_uri": "https://localhost:8080/"
        },
        "id": "01bfUk6mf2f-",
        "outputId": "a29df9d5-4d80-4fa4-83ce-22a9bc9a145c"
      },
      "execution_count": null,
      "outputs": [
        {
          "output_type": "stream",
          "name": "stdout",
          "text": [
            "joe.\n",
            "nef.\n",
            "maykalee.\n",
            "lamastinnalyn.\n",
            "jerotenco.\n",
            "dhon.\n",
            "yushamoura.\n",
            "faishawgenta.\n",
            "miyan.\n",
            "vestyn.\n",
            "hem.\n",
            "kiyah.\n",
            "niala.\n",
            "marist.\n",
            "dalima.\n",
            "ema.\n",
            "zecia.\n",
            "gashishano.\n",
            "noentley.\n",
            "adra.\n"
          ]
        }
      ]
    },
    {
      "cell_type": "code",
      "source": [],
      "metadata": {
        "id": "tgqgq6zkhLEF"
      },
      "execution_count": null,
      "outputs": []
    }
  ]
}